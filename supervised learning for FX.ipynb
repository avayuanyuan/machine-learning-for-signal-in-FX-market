{
 "cells": [
  {
   "cell_type": "code",
   "execution_count": 1,
   "metadata": {},
   "outputs": [],
   "source": [
    "import fxcmpy\n",
    "import numpy as np\n",
    "from pylab import mpl, plt\n",
    "%matplotlib inline\n",
    "api=fxcmpy.fxcmpy(access_token='39d76958c3a71d386fe16025fec07a4587ea2c26',log_level='error')"
   ]
  },
  {
   "cell_type": "code",
   "execution_count": 2,
   "metadata": {},
   "outputs": [
    {
     "data": {
      "text/html": [
       "<div>\n",
       "<style scoped>\n",
       "    .dataframe tbody tr th:only-of-type {\n",
       "        vertical-align: middle;\n",
       "    }\n",
       "\n",
       "    .dataframe tbody tr th {\n",
       "        vertical-align: top;\n",
       "    }\n",
       "\n",
       "    .dataframe thead th {\n",
       "        text-align: right;\n",
       "    }\n",
       "</style>\n",
       "<table border=\"1\" class=\"dataframe\">\n",
       "  <thead>\n",
       "    <tr style=\"text-align: right;\">\n",
       "      <th></th>\n",
       "      <th>Bid</th>\n",
       "      <th>Ask</th>\n",
       "    </tr>\n",
       "  </thead>\n",
       "  <tbody>\n",
       "    <tr>\n",
       "      <td>2019-05-26 21:00:03.266</td>\n",
       "      <td>1.12088</td>\n",
       "      <td>1.12104</td>\n",
       "    </tr>\n",
       "    <tr>\n",
       "      <td>2019-05-26 21:00:04.254</td>\n",
       "      <td>1.12088</td>\n",
       "      <td>1.12103</td>\n",
       "    </tr>\n",
       "    <tr>\n",
       "      <td>2019-05-26 21:01:01.086</td>\n",
       "      <td>1.12086</td>\n",
       "      <td>1.12102</td>\n",
       "    </tr>\n",
       "    <tr>\n",
       "      <td>2019-05-26 21:01:23.765</td>\n",
       "      <td>1.12090</td>\n",
       "      <td>1.12103</td>\n",
       "    </tr>\n",
       "    <tr>\n",
       "      <td>2019-05-26 21:01:23.854</td>\n",
       "      <td>1.12090</td>\n",
       "      <td>1.12120</td>\n",
       "    </tr>\n",
       "    <tr>\n",
       "      <td>...</td>\n",
       "      <td>...</td>\n",
       "      <td>...</td>\n",
       "    </tr>\n",
       "    <tr>\n",
       "      <td>2019-06-28 20:59:00.103</td>\n",
       "      <td>1.13691</td>\n",
       "      <td>1.13716</td>\n",
       "    </tr>\n",
       "    <tr>\n",
       "      <td>2019-06-28 20:59:00.161</td>\n",
       "      <td>1.13683</td>\n",
       "      <td>1.13716</td>\n",
       "    </tr>\n",
       "    <tr>\n",
       "      <td>2019-06-28 20:59:00.166</td>\n",
       "      <td>1.13676</td>\n",
       "      <td>1.13716</td>\n",
       "    </tr>\n",
       "    <tr>\n",
       "      <td>2019-06-28 20:59:00.180</td>\n",
       "      <td>1.13676</td>\n",
       "      <td>1.13718</td>\n",
       "    </tr>\n",
       "    <tr>\n",
       "      <td>2019-06-28 20:59:00.201</td>\n",
       "      <td>1.13676</td>\n",
       "      <td>1.13722</td>\n",
       "    </tr>\n",
       "  </tbody>\n",
       "</table>\n",
       "<p>5086257 rows × 2 columns</p>\n",
       "</div>"
      ],
      "text/plain": [
       "                             Bid      Ask\n",
       "2019-05-26 21:00:03.266  1.12088  1.12104\n",
       "2019-05-26 21:00:04.254  1.12088  1.12103\n",
       "2019-05-26 21:01:01.086  1.12086  1.12102\n",
       "2019-05-26 21:01:23.765  1.12090  1.12103\n",
       "2019-05-26 21:01:23.854  1.12090  1.12120\n",
       "...                          ...      ...\n",
       "2019-06-28 20:59:00.103  1.13691  1.13716\n",
       "2019-06-28 20:59:00.161  1.13683  1.13716\n",
       "2019-06-28 20:59:00.166  1.13676  1.13716\n",
       "2019-06-28 20:59:00.180  1.13676  1.13718\n",
       "2019-06-28 20:59:00.201  1.13676  1.13722\n",
       "\n",
       "[5086257 rows x 2 columns]"
      ]
     },
     "execution_count": 2,
     "metadata": {},
     "output_type": "execute_result"
    }
   ],
   "source": [
    "from fxcmpy import fxcmpy_tick_data_reader as tdr\n",
    "import datetime as dt\n",
    "start = dt.datetime(2019, 6, 1)  \n",
    "stop = dt.datetime(2019, 6, 30)  \n",
    "td=tdr('EURUSD',start,stop)\n",
    "td.get_data()  "
   ]
  },
  {
   "cell_type": "code",
   "execution_count": 3,
   "metadata": {},
   "outputs": [
    {
     "name": "stdout",
     "output_type": "stream",
     "text": [
      "<class 'pandas.core.frame.DataFrame'>\n",
      "DatetimeIndex: 5086257 entries, 2019-05-26 21:00:03.266000 to 2019-06-28 20:59:00.201000\n",
      "Data columns (total 2 columns):\n",
      "Bid    float64\n",
      "Ask    float64\n",
      "dtypes: float64(2)\n",
      "memory usage: 116.4 MB\n"
     ]
    }
   ],
   "source": [
    "td.get_data().info()"
   ]
  },
  {
   "cell_type": "code",
   "execution_count": 4,
   "metadata": {},
   "outputs": [
    {
     "data": {
      "text/html": [
       "<div>\n",
       "<style scoped>\n",
       "    .dataframe tbody tr th:only-of-type {\n",
       "        vertical-align: middle;\n",
       "    }\n",
       "\n",
       "    .dataframe tbody tr th {\n",
       "        vertical-align: top;\n",
       "    }\n",
       "\n",
       "    .dataframe thead th {\n",
       "        text-align: right;\n",
       "    }\n",
       "</style>\n",
       "<table border=\"1\" class=\"dataframe\">\n",
       "  <thead>\n",
       "    <tr style=\"text-align: right;\">\n",
       "      <th></th>\n",
       "      <th>Bid</th>\n",
       "      <th>Ask</th>\n",
       "    </tr>\n",
       "  </thead>\n",
       "  <tbody>\n",
       "    <tr>\n",
       "      <td>2019-06-28 20:59:00.103</td>\n",
       "      <td>1.13691</td>\n",
       "      <td>1.13716</td>\n",
       "    </tr>\n",
       "    <tr>\n",
       "      <td>2019-06-28 20:59:00.161</td>\n",
       "      <td>1.13683</td>\n",
       "      <td>1.13716</td>\n",
       "    </tr>\n",
       "    <tr>\n",
       "      <td>2019-06-28 20:59:00.166</td>\n",
       "      <td>1.13676</td>\n",
       "      <td>1.13716</td>\n",
       "    </tr>\n",
       "    <tr>\n",
       "      <td>2019-06-28 20:59:00.180</td>\n",
       "      <td>1.13676</td>\n",
       "      <td>1.13718</td>\n",
       "    </tr>\n",
       "    <tr>\n",
       "      <td>2019-06-28 20:59:00.201</td>\n",
       "      <td>1.13676</td>\n",
       "      <td>1.13722</td>\n",
       "    </tr>\n",
       "  </tbody>\n",
       "</table>\n",
       "</div>"
      ],
      "text/plain": [
       "                             Bid      Ask\n",
       "2019-06-28 20:59:00.103  1.13691  1.13716\n",
       "2019-06-28 20:59:00.161  1.13683  1.13716\n",
       "2019-06-28 20:59:00.166  1.13676  1.13716\n",
       "2019-06-28 20:59:00.180  1.13676  1.13718\n",
       "2019-06-28 20:59:00.201  1.13676  1.13722"
      ]
     },
     "execution_count": 4,
     "metadata": {},
     "output_type": "execute_result"
    }
   ],
   "source": [
    "td.get_data().tail()"
   ]
  },
  {
   "cell_type": "code",
   "execution_count": 5,
   "metadata": {},
   "outputs": [],
   "source": [
    "sub=td.get_data(start='2019-05-26 22:00:00',end='2019-06-28 20:00:00')"
   ]
  },
  {
   "cell_type": "code",
   "execution_count": 6,
   "metadata": {},
   "outputs": [
    {
     "data": {
      "image/png": "[encoded data removed]",
      "text/plain": [
       "<Figure size 720x432 with 1 Axes>"
      ]
     },
     "metadata": {
      "needs_background": "light"
     },
     "output_type": "display_data"
    }
   ],
   "source": [
    "sub['Mid'] = sub.mean(axis=1)  \n",
    "sub['SMA'] = sub['Mid'].rolling(10000).mean() \n",
    "sub[['Mid', 'SMA']].plot(figsize=(10, 6), lw=0.75);"
   ]
  },
  {
   "cell_type": "code",
   "execution_count": 91,
   "metadata": {},
   "outputs": [],
   "source": [
    "data = api.get_candles('EUR/USD', period='m5',\n",
    "                        start='2019-06-01 00:00:00',\n",
    "                        stop='2019-06-30 00:00:00')  "
   ]
  },
  {
   "cell_type": "code",
   "execution_count": 92,
   "metadata": {},
   "outputs": [],
   "source": [
    "data['midclose']=(data['askclose']+data['bidclose'])/2"
   ]
  },
  {
   "cell_type": "code",
   "execution_count": 93,
   "metadata": {},
   "outputs": [],
   "source": [
    "data['pct']=(data['askclose']-data['bidclose'])/data['midclose']    #commission fee for spread"
   ]
  },
  {
   "cell_type": "code",
   "execution_count": 94,
   "metadata": {},
   "outputs": [
    {
     "data": {
      "text/html": [
       "<div>\n",
       "<style scoped>\n",
       "    .dataframe tbody tr th:only-of-type {\n",
       "        vertical-align: middle;\n",
       "    }\n",
       "\n",
       "    .dataframe tbody tr th {\n",
       "        vertical-align: top;\n",
       "    }\n",
       "\n",
       "    .dataframe thead th {\n",
       "        text-align: right;\n",
       "    }\n",
       "</style>\n",
       "<table border=\"1\" class=\"dataframe\">\n",
       "  <thead>\n",
       "    <tr style=\"text-align: right;\">\n",
       "      <th></th>\n",
       "      <th>bidopen</th>\n",
       "      <th>bidclose</th>\n",
       "      <th>bidhigh</th>\n",
       "      <th>bidlow</th>\n",
       "      <th>askopen</th>\n",
       "      <th>askclose</th>\n",
       "      <th>askhigh</th>\n",
       "      <th>asklow</th>\n",
       "      <th>tickqty</th>\n",
       "      <th>midclose</th>\n",
       "      <th>pct</th>\n",
       "    </tr>\n",
       "    <tr>\n",
       "      <th>date</th>\n",
       "      <th></th>\n",
       "      <th></th>\n",
       "      <th></th>\n",
       "      <th></th>\n",
       "      <th></th>\n",
       "      <th></th>\n",
       "      <th></th>\n",
       "      <th></th>\n",
       "      <th></th>\n",
       "      <th></th>\n",
       "      <th></th>\n",
       "    </tr>\n",
       "  </thead>\n",
       "  <tbody>\n",
       "    <tr>\n",
       "      <td>2019-06-02 19:00:00</td>\n",
       "      <td>1.11680</td>\n",
       "      <td>1.11647</td>\n",
       "      <td>1.11648</td>\n",
       "      <td>1.11647</td>\n",
       "      <td>1.11704</td>\n",
       "      <td>1.11701</td>\n",
       "      <td>1.11703</td>\n",
       "      <td>1.11701</td>\n",
       "      <td>4</td>\n",
       "      <td>1.116740</td>\n",
       "      <td>0.000484</td>\n",
       "    </tr>\n",
       "    <tr>\n",
       "      <td>2019-06-02 19:05:00</td>\n",
       "      <td>1.11647</td>\n",
       "      <td>1.11647</td>\n",
       "      <td>1.11647</td>\n",
       "      <td>1.11647</td>\n",
       "      <td>1.11701</td>\n",
       "      <td>1.11690</td>\n",
       "      <td>1.11690</td>\n",
       "      <td>1.11690</td>\n",
       "      <td>1</td>\n",
       "      <td>1.116685</td>\n",
       "      <td>0.000385</td>\n",
       "    </tr>\n",
       "    <tr>\n",
       "      <td>2019-06-02 19:10:00</td>\n",
       "      <td>1.11647</td>\n",
       "      <td>1.11650</td>\n",
       "      <td>1.11650</td>\n",
       "      <td>1.11635</td>\n",
       "      <td>1.11690</td>\n",
       "      <td>1.11697</td>\n",
       "      <td>1.11699</td>\n",
       "      <td>1.11690</td>\n",
       "      <td>3</td>\n",
       "      <td>1.116735</td>\n",
       "      <td>0.000421</td>\n",
       "    </tr>\n",
       "    <tr>\n",
       "      <td>2019-06-02 19:20:00</td>\n",
       "      <td>1.11650</td>\n",
       "      <td>1.11608</td>\n",
       "      <td>1.11644</td>\n",
       "      <td>1.11600</td>\n",
       "      <td>1.11697</td>\n",
       "      <td>1.11650</td>\n",
       "      <td>1.11689</td>\n",
       "      <td>1.11647</td>\n",
       "      <td>14</td>\n",
       "      <td>1.116290</td>\n",
       "      <td>0.000376</td>\n",
       "    </tr>\n",
       "    <tr>\n",
       "      <td>2019-06-02 19:25:00</td>\n",
       "      <td>1.11608</td>\n",
       "      <td>1.11600</td>\n",
       "      <td>1.11608</td>\n",
       "      <td>1.11594</td>\n",
       "      <td>1.11650</td>\n",
       "      <td>1.11649</td>\n",
       "      <td>1.11650</td>\n",
       "      <td>1.11613</td>\n",
       "      <td>15</td>\n",
       "      <td>1.116245</td>\n",
       "      <td>0.000439</td>\n",
       "    </tr>\n",
       "  </tbody>\n",
       "</table>\n",
       "</div>"
      ],
      "text/plain": [
       "                     bidopen  bidclose  bidhigh   bidlow  askopen  askclose  \\\n",
       "date                                                                          \n",
       "2019-06-02 19:00:00  1.11680   1.11647  1.11648  1.11647  1.11704   1.11701   \n",
       "2019-06-02 19:05:00  1.11647   1.11647  1.11647  1.11647  1.11701   1.11690   \n",
       "2019-06-02 19:10:00  1.11647   1.11650  1.11650  1.11635  1.11690   1.11697   \n",
       "2019-06-02 19:20:00  1.11650   1.11608  1.11644  1.11600  1.11697   1.11650   \n",
       "2019-06-02 19:25:00  1.11608   1.11600  1.11608  1.11594  1.11650   1.11649   \n",
       "\n",
       "                     askhigh   asklow  tickqty  midclose       pct  \n",
       "date                                                                \n",
       "2019-06-02 19:00:00  1.11703  1.11701        4  1.116740  0.000484  \n",
       "2019-06-02 19:05:00  1.11690  1.11690        1  1.116685  0.000385  \n",
       "2019-06-02 19:10:00  1.11699  1.11690        3  1.116735  0.000421  \n",
       "2019-06-02 19:20:00  1.11689  1.11647       14  1.116290  0.000376  \n",
       "2019-06-02 19:25:00  1.11650  1.11613       15  1.116245  0.000439  "
      ]
     },
     "execution_count": 94,
     "metadata": {},
     "output_type": "execute_result"
    }
   ],
   "source": [
    "data.head()"
   ]
  },
  {
   "cell_type": "code",
   "execution_count": 109,
   "metadata": {},
   "outputs": [],
   "source": [
    "data['returns'] = np.log(data['midclose'] / data['midclose'].shift(1))\n",
    "data['returns_2'] = np.log(data['midclose'] / data['midclose'].shift(1))\n",
    "data.dropna(inplace=True)                                                                  "
   ]
  },
  {
   "cell_type": "code",
   "execution_count": 110,
   "metadata": {},
   "outputs": [],
   "source": [
    "lags = 5\n",
    "cols = []\n",
    "for lag in range(1, lags + 1):\n",
    "    col = 'lag_{}'.format(lag)\n",
    "    data[col] = data['returns'].shift(lag)  \n",
    "    cols.append(col)\n",
    "data.dropna(inplace=True)\n",
    "data[cols] = np.where(data[cols] > 0, 1, 0)  \n",
    "data['direction'] = np.where(data['returns_2'] > 0, 1, -1) "
   ]
  },
  {
   "cell_type": "code",
   "execution_count": 111,
   "metadata": {},
   "outputs": [],
   "source": [
    "signal=data[cols + ['direction','returns']]"
   ]
  },
  {
   "cell_type": "code",
   "execution_count": 45,
   "metadata": {},
   "outputs": [],
   "source": [
    "# linear model\n",
    "from sklearn import linear_model, metrics\n",
    "from sklearn.naive_bayes import GaussianNB\n",
    "from sklearn.svm import SVC\n",
    "from sklearn.model_selection import learning_curve, GridSearchCV\n",
    "from sklearn.ensemble import (RandomForestClassifier, ExtraTreesClassifier, AdaBoostClassifier,\\\n",
    "                              GradientBoostingClassifier)\n",
    "from sklearn.tree import DecisionTreeClassifier\n",
    "from sklearn.linear_model import LogisticRegression\n",
    "models = {\n",
    "    #'log_reg': linear_model.LogisticRegression(),\n",
    "    #'gauss_nb': GaussianNB(),\n",
    "    'RandomForestClassifier': RandomForestClassifier(random_state = 0),\n",
    "    'ExtraTreesClassifier': ExtraTreesClassifier(random_state = 0),\n",
    "    'AdaBoostClassifier': AdaBoostClassifier(base_estimator = DecisionTreeClassifier(),\\\n",
    "                                             n_estimators = 10,random_state = 0),\n",
    "    'GradientBoostingClassifier': GradientBoostingClassifier(random_state = 0),\n",
    "    'SVC': SVC(probability=True,random_state = 0)\n",
    "\n",
    "}"
   ]
  },
  {
   "cell_type": "code",
   "execution_count": 46,
   "metadata": {},
   "outputs": [],
   "source": [
    "model_grid_params = {\n",
    "    'RandomForestClassifier': {'max_features':[None],'n_estimators':[10],'max_depth':[10],\\\n",
    "                               'min_samples_split':[2],'criterion':['entropy'],\\\n",
    "                               'min_samples_leaf':[3]},\n",
    "    'ExtraTreesClassifier': {'max_features':[None],'n_estimators':[10],'max_depth':[10],\\\n",
    "                             'min_samples_split':[2],'criterion':['entropy'],\\\n",
    "                             'min_samples_leaf':[3]},\n",
    "    'AdaBoostClassifier': {\"base_estimator__criterion\" : [\"entropy\"],\\\n",
    "                           \"base_estimator__max_depth\": [None],\\\n",
    "                           \"base_estimator__min_samples_leaf\" : [3],\\\n",
    "                           \"base_estimator__min_samples_split\" : [2],\\\n",
    "                           \"base_estimator__max_features\" : [None]},\n",
    "    'GradientBoostingClassifier': {'max_features':[None],'n_estimators':[10],'max_depth':[10],\\\n",
    "                                   'min_samples_split':[2],'min_samples_leaf':[3],\\\n",
    "                                   'learning_rate':[0.1],'subsample':[1.0]},\n",
    "    'SVC': [{'kernel':['rbf'],'gamma':[1e-1],'C':[1]},\\\n",
    "            {'kernel':['linear'],'C':[1,10]}]\n",
    "}"
   ]
  },
  {
   "cell_type": "code",
   "execution_count": 121,
   "metadata": {},
   "outputs": [],
   "source": [
    "class Model_Selection:\n",
    "    \n",
    "    def __init__(self,models,model_grid_params,signal,test):\n",
    "        \n",
    "        self.models = models\n",
    "        self.model_grid = model_grid_params\n",
    "        self.data = signal\n",
    "        self.keys = models.keys()\n",
    "        self.best_score = {}\n",
    "        self.grid = {}\n",
    "        self.predict_values = {}\n",
    "        self.cv_acc = {}\n",
    "        self.acc = {}\n",
    "        self.fscore = {}\n",
    "        self.true_values = {}\n",
    "        self.acc_day = {}\n",
    "        self.summary = []\n",
    "        self.test=test\n",
    "        \n",
    "    def Grid_fit(self,X_train,y_train,cv = 5,scoring = 'accuracy'):\n",
    "        \n",
    "        for key in self.keys:\n",
    "            #print (\"Running GridSearchCV for %s.\" %(key))\n",
    "            model = self.models[key]\n",
    "            model_grid = self.model_grid[key]\n",
    "            Grid = GridSearchCV(model, model_grid, cv = cv, scoring = scoring)\n",
    "            Grid.fit(X_train,y_train) \n",
    "            self.grid[key] = Grid\n",
    "            print (Grid.best_params_)\n",
    "            print ('CV best Score = %s'%(Grid.best_score_))\n",
    "            if key not in self.cv_acc:\n",
    "                self.cv_acc[key]=[]\n",
    "            self.cv_acc[key].append(Grid.best_score_)  \n",
    "    \n",
    "    def model_fit(self,X_train, y_train, X_test, y_test):\n",
    "        \n",
    "        for key in self.keys:\n",
    "\n",
    "            model = self.models[key]\n",
    "\n",
    "            model.set_params(**self.grid[key].best_params_)\n",
    "            model.fit(X_train, y_train)\n",
    "            predictions = model.predict(X_test)\n",
    "            if key not in self.predict_values:\n",
    "                self.predict_values[key]=[]\n",
    "            self.predict_values[key].append(predictions.tolist())\n",
    "            if key not in self.true_values:\n",
    "                self.true_values[key]=[]\n",
    "            self.true_values[key].append(y_test.tolist())\n",
    "            \n",
    "            acc = metrics.accuracy_score(y_test,predictions)\n",
    "            f_score = metrics.f1_score(y_test,predictions)\n",
    "            print ('Accuracy = %s'%(acc), key)\n",
    "            if key not in self.acc:\n",
    "                self.acc[key]=[]\n",
    "            self.acc[key].append(acc)\n",
    "            if key not in self.fscore:\n",
    "                self.fscore[key]=[]\n",
    "            self.fscore[key].append(f_score)\n",
    "            \n",
    "    def plot_return(self):\n",
    "        for key in self.keys:\n",
    "            self.test['pos_' + key] = self.predict_values[key]\n",
    "        sel = []\n",
    "        pct=0.001\n",
    "        for key in self.keys():\n",
    "            col1 = 'strat_' + model \n",
    "            self.test[col1] = test['pos_' + key] * self.test['returns']\n",
    "            col2 = 'strat_tc'+model\n",
    "            self.test[col2] = np.where(self.test['pos_' + model].diff() != 0,\n",
    "                               self.test[col1] - pct,  \n",
    "                               self.test[col1])\n",
    "            sel.append(col2)\n",
    "        sel.insert(0, 'returns')\n",
    "        print(self.test[sel].sum().apply(np.exp) ) \n",
    "        from pylab import mpl, plt\n",
    "        %matplotlib inline\n",
    "        self.test[sel].cumsum().apply(np.exp).plot(figsize=(10, 6));\n",
    "            \n",
    "    def pipline(self):\n",
    "        split= int(len(self.data.index)*0.9)\n",
    "        X_train = self.data.iloc[:split,[0,1,2,3,4]]\n",
    "        y_train = self.data.iloc[:split,-2]\n",
    "\n",
    "        # Test data\n",
    "        X_test = self.data.iloc[split:,[0,1,2,3,4]]\n",
    "        y_test = self.data.iloc[split:,-2]\n",
    "                \n",
    "                \n",
    "        self.Grid_fit(X_train, y_train, cv = 5, scoring = 'accuracy')\n",
    "        self.model_fit(X_train, y_train,X_test,y_test)\n",
    "\n",
    "\n",
    "\n",
    "          \n",
    "    def print_(self):\n",
    "        return self.fscore, self.true_values, self.acc, self.predict_values"
   ]
  },
  {
   "cell_type": "code",
   "execution_count": 104,
   "metadata": {},
   "outputs": [],
   "source": [
    "split= int(len(signal.index)*0.9)\n",
    "\n",
    "test=signal.iloc[split:]"
   ]
  },
  {
   "cell_type": "code",
   "execution_count": 122,
   "metadata": {},
   "outputs": [],
   "source": [
    "pip = Model_Selection(models,model_grid_params,signal,test)"
   ]
  },
  {
   "cell_type": "code",
   "execution_count": 123,
   "metadata": {},
   "outputs": [
    {
     "name": "stdout",
     "output_type": "stream",
     "text": [
      "{'criterion': 'entropy', 'max_depth': 10, 'max_features': None, 'min_samples_leaf': 3, 'min_samples_split': 2, 'n_estimators': 10}\n",
      "CV best Score = 0.5002858776443682\n",
      "{'criterion': 'entropy', 'max_depth': 10, 'max_features': None, 'min_samples_leaf': 3, 'min_samples_split': 2, 'n_estimators': 10}\n",
      "CV best Score = 0.5004764627406136\n",
      "{'base_estimator__criterion': 'entropy', 'base_estimator__max_depth': None, 'base_estimator__max_features': None, 'base_estimator__min_samples_leaf': 3, 'base_estimator__min_samples_split': 2}\n",
      "CV best Score = 0.5010482180293501\n",
      "{'learning_rate': 0.1, 'max_depth': 10, 'max_features': None, 'min_samples_leaf': 3, 'min_samples_split': 2, 'n_estimators': 10, 'subsample': 1.0}\n",
      "CV best Score = 0.5004764627406136\n",
      "{'C': 1, 'kernel': 'linear'}\n",
      "CV best Score = 0.5128644939965694\n",
      "Accuracy = 0.5136986301369864 RandomForestClassifier\n",
      "Accuracy = 0.5222602739726028 ExtraTreesClassifier\n",
      "Accuracy = 0.5222602739726028 AdaBoostClassifier\n",
      "Accuracy = 0.5222602739726028 GradientBoostingClassifier\n",
      "Accuracy = 0.511986301369863 SVC\n",
      "Total Time = 24.176475048065186\n"
     ]
    }
   ],
   "source": [
    "import time\n",
    "start = time.time()\n",
    "pip.pipline()\n",
    "end = time.time()\n",
    "print ('Total Time = %s'%(end-start))"
   ]
  },
  {
   "cell_type": "code",
   "execution_count": 124,
   "metadata": {},
   "outputs": [],
   "source": [
    "fscore, true_values, acc, predict_values=pip.print_()"
   ]
  },
  {
   "cell_type": "code",
   "execution_count": 137,
   "metadata": {},
   "outputs": [
    {
     "name": "stderr",
     "output_type": "stream",
     "text": [
      "/Library/Frameworks/Python.framework/Versions/3.7/lib/python3.7/site-packages/ipykernel_launcher.py:2: SettingWithCopyWarning: \n",
      "A value is trying to be set on a copy of a slice from a DataFrame.\n",
      "Try using .loc[row_indexer,col_indexer] = value instead\n",
      "\n",
      "See the caveats in the documentation: http://pandas.pydata.org/pandas-docs/stable/user_guide/indexing.html#returning-a-view-versus-a-copy\n",
      "  \n",
      "/Library/Frameworks/Python.framework/Versions/3.7/lib/python3.7/site-packages/ipykernel_launcher.py:8: SettingWithCopyWarning: \n",
      "A value is trying to be set on a copy of a slice from a DataFrame.\n",
      "Try using .loc[row_indexer,col_indexer] = value instead\n",
      "\n",
      "See the caveats in the documentation: http://pandas.pydata.org/pandas-docs/stable/user_guide/indexing.html#returning-a-view-versus-a-copy\n",
      "  \n",
      "/Library/Frameworks/Python.framework/Versions/3.7/lib/python3.7/site-packages/ipykernel_launcher.py:12: SettingWithCopyWarning: \n",
      "A value is trying to be set on a copy of a slice from a DataFrame.\n",
      "Try using .loc[row_indexer,col_indexer] = value instead\n",
      "\n",
      "See the caveats in the documentation: http://pandas.pydata.org/pandas-docs/stable/user_guide/indexing.html#returning-a-view-versus-a-copy\n",
      "  if sys.path[0] == '':\n"
     ]
    },
    {
     "name": "stdout",
     "output_type": "stream",
     "text": [
      "returns                               1.000277\n",
      "strat_tcRandomForestClassifier        0.750707\n",
      "strat_tcExtraTreesClassifier          0.733958\n",
      "strat_tcAdaBoostClassifier            0.733958\n",
      "strat_tcGradientBoostingClassifier    0.733958\n",
      "strat_tcSVC                           0.730728\n",
      "dtype: float64\n"
     ]
    },
    {
     "data": {
      "image/png": "[encoded data removed]",
      "text/plain": [
       "<Figure size 720x432 with 1 Axes>"
      ]
     },
     "metadata": {
      "needs_background": "light"
     },
     "output_type": "display_data"
    }
   ],
   "source": [
    "for key in models.keys():\n",
    "    test['pos_' + key] = predict_values[key][0]\n",
    "global sel \n",
    "sel = []\n",
    "pct=0.001\n",
    "for key in models.keys():\n",
    "    col1 = 'strat_' + key \n",
    "    test[col1] = test['pos_' + key] * test['returns']\n",
    "    col2 = 'strat_tc'+key\n",
    "    test[col2] = np.where(test['pos_' + key].diff() != 0,\n",
    "                               test[col1] - pct,  \n",
    "                               test[col1])\n",
    "    sel.append(col2)\n",
    "sel.insert(0, 'returns')\n",
    "print(test[sel].sum().apply(np.exp) ) \n",
    "from pylab import mpl, plt\n",
    "%matplotlib inline\n",
    "test[sel].cumsum().apply(np.exp).plot(figsize=(10, 6));"
   ]
  },
  {
   "cell_type": "code",
   "execution_count": null,
   "metadata": {},
   "outputs": [],
   "source": []
  }
 ],
 "metadata": {
  "kernelspec": {
   "display_name": "Python 3",
   "language": "python",
   "name": "python3"
  },
  "language_info": {
   "codemirror_mode": {
    "name": "ipython",
    "version": 3
   },
   "file_extension": ".py",
   "mimetype": "text/x-python",
   "name": "python",
   "nbconvert_exporter": "python",
   "pygments_lexer": "ipython3",
   "version": "3.7.4"
  }
 },
 "nbformat": 4,
 "nbformat_minor": 2
}
